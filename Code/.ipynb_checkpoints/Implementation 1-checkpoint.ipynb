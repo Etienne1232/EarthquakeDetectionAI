{
 "cells": [
  {
   "cell_type": "markdown",
   "id": "00ca84cc",
   "metadata": {},
   "source": [
    "## Imports"
   ]
  },
  {
   "cell_type": "code",
   "execution_count": 1,
   "id": "a079e172",
   "metadata": {},
   "outputs": [],
   "source": [
    "import csv\n",
    "import obspy\n",
    "from obspy import signal\n",
    "import obspy.signal.filter\n",
    "from tqdm import tqdm\n",
    "import tensorflow as tf\n",
    "import numpy as np\n",
    "from sklearn.model_selection import train_test_split\n",
    "import random\n",
    "import optuna\n",
    "from joblib import dump, load"
   ]
  },
  {
   "cell_type": "markdown",
   "id": "e4066a6d",
   "metadata": {},
   "source": [
    "## Reading Data"
   ]
  },
  {
   "cell_type": "code",
   "execution_count": 2,
   "id": "55ecb7dc",
   "metadata": {},
   "outputs": [],
   "source": [
    "def get_event_list(path):\n",
    "    events = []\n",
    "    with open(path, 'r') as f:\n",
    "        reader = csv.reader(f)\n",
    "        for row in reader:\n",
    "            events.append(row)\n",
    "    \n",
    "    return events"
   ]
  },
  {
   "cell_type": "code",
   "execution_count": 3,
   "id": "c6893cbe-1651-4c6a-b778-29a999290fa4",
   "metadata": {},
   "outputs": [],
   "source": [
    "def make_utc_list(events):\n",
    "    utc_times = []\n",
    "    for _, _, date, oTime in events[1:]:\n",
    "            utc_times.append(obspy.UTCDateTime(date+oTime))\n",
    "    return utc_times"
   ]
  },
  {
   "cell_type": "code",
   "execution_count": 4,
   "id": "38fd1f0d",
   "metadata": {
    "scrolled": true
   },
   "outputs": [],
   "source": [
    "def get_clean_data(path, event_list):\n",
    "    clean_data = []\n",
    "\n",
    "    for year, day, date, oTime in tqdm(event_list[1:]):\n",
    "        HHE = path+f\"/HHE.D/HHE.D/MN.WDD..HHE.D.{year}.{day.zfill(3)}\"\n",
    "        HHN = path+f\"/HHN.D/HHN.D/MN.WDD..HHN.D.{year}.{day.zfill(3)}\"\n",
    "        HHZ = path+f\"/HHZ.D/HHZ.D/MN.WDD..HHZ.D.{year}.{day.zfill(3)}\"\n",
    "\n",
    "        st = obspy.read(HHE)\n",
    "        st += obspy.read(HHN)\n",
    "        st += obspy.read(HHZ)\n",
    "\n",
    "        quakeTime = obspy.UTCDateTime(date+oTime)\n",
    "\n",
    "        st = st.slice(starttime=quakeTime-30, endtime=quakeTime+30)\n",
    "\n",
    "        filtered_data = obspy.signal.filter.highpass(st, freq=2.5, df=5.0001)\n",
    "\n",
    "        st.data = filtered_data\n",
    "\n",
    "        clean_data.append(st)\n",
    "    \n",
    "    return clean_data"
   ]
  },
  {
   "cell_type": "code",
   "execution_count": 6,
   "id": "e1037eae-f616-4b12-80e0-d1d53a2403a6",
   "metadata": {},
   "outputs": [],
   "source": [
    "def create_neg_examples(path ,utc_times):\n",
    "    # Initialize an empty list to store the negative examples\n",
    "    negative_examples = []\n",
    "\n",
    "    # Loop to generate random negative examples\n",
    "    while len(negative_examples) < 200:\n",
    "\n",
    "        #add year if necessary\n",
    "        ran_day = random.randint(1, 365)\n",
    "        ran_hr = random.randint(0, 23)\n",
    "        ran_min =random.randint(0, 59)\n",
    "        ran_sec =random.randint(0, 59)\n",
    "        year = 2010\n",
    "\n",
    "        if ran_day == 97:\n",
    "            continue\n",
    "            \n",
    "        # Generate a random UTC time on the selected day\n",
    "        random_utc_time = obspy.UTCDateTime(year=2010, julday=ran_day, hour=ran_hr, minute=ran_min, second=ran_sec)\n",
    "\n",
    "        flag = False\n",
    "\n",
    "        for time in utc_times:\n",
    "            #if the window being created is in an earthquake window\n",
    "            if random_utc_time < time + 60 and random_utc_time > time - 60:\n",
    "                flag = True\n",
    "\n",
    "        if not flag:\n",
    "            HHE = path+f\"/HHE.D/HHE.D/MN.WDD..HHE.D.{year}.{str(ran_day).zfill(3)}\"\n",
    "            HHN = path+f\"/HHN.D/HHN.D/MN.WDD..HHN.D.{year}.{str(ran_day).zfill(3)}\"\n",
    "            HHZ = path+f\"/HHZ.D/HHZ.D/MN.WDD..HHZ.D.{year}.{str(ran_day).zfill(3)}\"\n",
    "\n",
    "            try:\n",
    "                st = obspy.read(HHE)\n",
    "                st += obspy.read(HHN)\n",
    "                st += obspy.read(HHZ)\n",
    "\n",
    "                st = st.slice(starttime=random_utc_time-30, endtime=random_utc_time+30)\n",
    "\n",
    "                filtered_data = obspy.signal.filter.highpass(st, freq=2.5, df=5.0001)\n",
    "\n",
    "                st.data = filtered_data\n",
    "\n",
    "                negative_examples.append(st)\n",
    "                \n",
    "            except Exception as e:\n",
    "                continue\n",
    "            \n",
    "    return negative_examples"
   ]
  },
  {
   "cell_type": "code",
   "execution_count": 7,
   "id": "01adcbd8",
   "metadata": {
    "collapsed": true,
    "jupyter": {
     "outputs_hidden": true
    },
    "tags": []
   },
   "outputs": [
    {
     "name": "stderr",
     "output_type": "stream",
     "text": [
      "100%|██████████| 133/133 [01:42<00:00,  1.29it/s]\n",
      "C:\\Users\\raylo\\anaconda3\\lib\\site-packages\\scipy\\signal\\_signaltools.py:4198: VisibleDeprecationWarning: Creating an ndarray from ragged nested sequences (which is a list-or-tuple of lists-or-tuples-or ndarrays with different lengths or shapes) is deprecated. If you meant to do this, you must specify 'dtype=object' when creating the ndarray.\n",
      "  x = np.asarray(x)\n"
     ]
    }
   ],
   "source": [
    "events = get_event_list('../Data/DUMP/2010-WDD-events.csv')\n",
    "earthquake_data = np.array(get_clean_data('../Data/DUMP', events))\n",
    "earthquake_labels = np.asarray([1] * len(earthquake_data))\n",
    "\n",
    "utc_times = make_utc_list(events)\n",
    "neg_examples = create_neg_examples('../Data/DUMP', utc_times)\n",
    "negative_labels = np.asarray([0] * len(neg_examples))\n",
    "\n",
    "combined_data = np.concatenate((earthquake_data, neg_examples), axis=0)\n",
    "combined_labels = np.concatenate((earthquake_labels, negative_labels), axis=0)"
   ]
  },
  {
   "cell_type": "markdown",
   "id": "058b7779-a95b-47e4-930f-2f7946c22de9",
   "metadata": {},
   "source": [
    "Dump Data"
   ]
  },
  {
   "cell_type": "code",
   "execution_count": 9,
   "id": "97341931-a822-4faa-b0ab-3390ddc0bf32",
   "metadata": {},
   "outputs": [
    {
     "data": {
      "text/plain": [
       "['combined_labels.joblib']"
      ]
     },
     "execution_count": 9,
     "metadata": {},
     "output_type": "execute_result"
    }
   ],
   "source": [
    "# Save the combined_data and combined_labels\n",
    "dump(combined_data, 'combined_data.joblib')\n",
    "dump(combined_labels, 'combined_labels.joblib')"
   ]
  },
  {
   "cell_type": "markdown",
   "id": "1055df4a-451d-4f0d-bf99-10e9bba7b110",
   "metadata": {},
   "source": [
    "Load Data"
   ]
  },
  {
   "cell_type": "code",
   "execution_count": null,
   "id": "99a614e7-2ae1-4b5d-8ad0-281b0a65c93d",
   "metadata": {},
   "outputs": [],
   "source": [
    "# Load the combined_data and combined_labels\n",
    "combined_data = load('combined_data.joblib')\n",
    "combined_labels = load('combined_labels.joblib')"
   ]
  },
  {
   "cell_type": "code",
   "execution_count": 20,
   "id": "1fc96156-34f7-4b94-b6eb-c3f6f5fe2411",
   "metadata": {},
   "outputs": [],
   "source": [
    "X_train, X_test, y_train, y_test = train_test_split(combined_data, combined_labels, test_size=0.33)"
   ]
  },
  {
   "cell_type": "markdown",
   "id": "2b288532-4ba9-44b1-848c-aa6823f8cdae",
   "metadata": {},
   "source": [
    "## Model"
   ]
  },
  {
   "cell_type": "markdown",
   "id": "bbdc7cb9-2ae3-428c-b12e-e1c08c550df0",
   "metadata": {},
   "source": [
    "### Original Attempt"
   ]
  },
  {
   "cell_type": "code",
   "execution_count": 64,
   "id": "f361d980-a0f7-4afa-8f70-01cfb033d224",
   "metadata": {},
   "outputs": [],
   "source": [
    "# Create a sequential model\n",
    "model = tf.keras.models.Sequential()\n",
    "\n",
    "# Add an LSTM layer to the model\n",
    "model.add(tf.keras.layers.LSTM(128, input_shape=(combined_data.shape[1], combined_data.shape[2])))\n",
    "\n",
    "# Add a dense layer to the model\n",
    "model.add(tf.keras.layers.Dense(1))\n",
    "\n",
    "# Compile the model\n",
    "model.compile(optimizer='adam', loss='binary_crossentropy', metrics=['accuracy'])"
   ]
  },
  {
   "cell_type": "code",
   "execution_count": 65,
   "id": "5c30115e-dacf-42ad-aede-2bcb82a13af1",
   "metadata": {
    "collapsed": true,
    "jupyter": {
     "outputs_hidden": true
    },
    "tags": []
   },
   "outputs": [
    {
     "name": "stdout",
     "output_type": "stream",
     "text": [
      "Epoch 1/50\n",
      "7/7 [==============================] - 3s 20ms/step - loss: 4.0078 - accuracy: 0.5336\n",
      "Epoch 2/50\n",
      "7/7 [==============================] - 0s 30ms/step - loss: 6.1292 - accuracy: 0.5919\n",
      "Epoch 3/50\n",
      "7/7 [==============================] - 0s 19ms/step - loss: 6.0016 - accuracy: 0.5919\n",
      "Epoch 4/50\n",
      "7/7 [==============================] - 0s 25ms/step - loss: 6.0520 - accuracy: 0.5919\n",
      "Epoch 5/50\n",
      "7/7 [==============================] - 0s 19ms/step - loss: 6.0553 - accuracy: 0.5919\n",
      "Epoch 6/50\n",
      "7/7 [==============================] - 0s 36ms/step - loss: 5.9546 - accuracy: 0.5919\n",
      "Epoch 7/50\n",
      "7/7 [==============================] - 0s 46ms/step - loss: 5.8168 - accuracy: 0.5919\n",
      "Epoch 8/50\n",
      "7/7 [==============================] - 0s 32ms/step - loss: 5.8181 - accuracy: 0.5919\n",
      "Epoch 9/50\n",
      "7/7 [==============================] - 0s 31ms/step - loss: 5.7957 - accuracy: 0.5919\n",
      "Epoch 10/50\n",
      "7/7 [==============================] - 0s 21ms/step - loss: 5.8791 - accuracy: 0.5919\n",
      "Epoch 11/50\n",
      "7/7 [==============================] - 0s 21ms/step - loss: 5.7095 - accuracy: 0.5964\n",
      "Epoch 12/50\n",
      "7/7 [==============================] - 0s 32ms/step - loss: 5.5428 - accuracy: 0.5919\n",
      "Epoch 13/50\n",
      "7/7 [==============================] - 0s 25ms/step - loss: 3.8340 - accuracy: 0.5919\n",
      "Epoch 14/50\n",
      "7/7 [==============================] - 0s 40ms/step - loss: 1.2351 - accuracy: 0.5247\n",
      "Epoch 15/50\n",
      "7/7 [==============================] - 0s 43ms/step - loss: 1.1231 - accuracy: 0.5650\n",
      "Epoch 16/50\n",
      "7/7 [==============================] - 0s 58ms/step - loss: 1.1724 - accuracy: 0.6143\n",
      "Epoch 17/50\n",
      "7/7 [==============================] - 0s 43ms/step - loss: 1.0820 - accuracy: 0.6143\n",
      "Epoch 18/50\n",
      "7/7 [==============================] - 0s 36ms/step - loss: 1.0094 - accuracy: 0.6054\n",
      "Epoch 19/50\n",
      "7/7 [==============================] - 0s 43ms/step - loss: 1.0003 - accuracy: 0.5964\n",
      "Epoch 20/50\n",
      "7/7 [==============================] - 0s 35ms/step - loss: 1.0021 - accuracy: 0.5964\n",
      "Epoch 21/50\n",
      "7/7 [==============================] - 0s 41ms/step - loss: 0.9984 - accuracy: 0.5964\n",
      "Epoch 22/50\n",
      "7/7 [==============================] - 0s 57ms/step - loss: 0.9939 - accuracy: 0.5964\n",
      "Epoch 23/50\n",
      "7/7 [==============================] - 0s 48ms/step - loss: 0.9903 - accuracy: 0.5919\n",
      "Epoch 24/50\n",
      "7/7 [==============================] - 0s 29ms/step - loss: 0.9867 - accuracy: 0.5919\n",
      "Epoch 25/50\n",
      "7/7 [==============================] - 0s 49ms/step - loss: 0.9855 - accuracy: 0.5964\n",
      "Epoch 26/50\n",
      "7/7 [==============================] - 0s 50ms/step - loss: 0.9851 - accuracy: 0.6009\n",
      "Epoch 27/50\n",
      "7/7 [==============================] - 0s 33ms/step - loss: 0.9827 - accuracy: 0.6009\n",
      "Epoch 28/50\n",
      "7/7 [==============================] - 0s 55ms/step - loss: 0.9819 - accuracy: 0.6054\n",
      "Epoch 29/50\n",
      "7/7 [==============================] - 0s 47ms/step - loss: 0.9803 - accuracy: 0.6054\n",
      "Epoch 30/50\n",
      "7/7 [==============================] - 0s 50ms/step - loss: 0.9792 - accuracy: 0.6054\n",
      "Epoch 31/50\n",
      "7/7 [==============================] - 0s 54ms/step - loss: 0.9782 - accuracy: 0.6054\n",
      "Epoch 32/50\n",
      "7/7 [==============================] - 0s 41ms/step - loss: 0.9771 - accuracy: 0.6054\n",
      "Epoch 33/50\n",
      "7/7 [==============================] - 0s 43ms/step - loss: 0.9766 - accuracy: 0.6054\n",
      "Epoch 34/50\n",
      "7/7 [==============================] - 0s 44ms/step - loss: 0.9752 - accuracy: 0.6054\n",
      "Epoch 35/50\n",
      "7/7 [==============================] - 0s 54ms/step - loss: 0.9742 - accuracy: 0.6099\n",
      "Epoch 36/50\n",
      "7/7 [==============================] - 0s 41ms/step - loss: 0.9733 - accuracy: 0.6099\n",
      "Epoch 37/50\n",
      "7/7 [==============================] - 0s 45ms/step - loss: 0.9726 - accuracy: 0.6099\n",
      "Epoch 38/50\n",
      "7/7 [==============================] - 0s 28ms/step - loss: 0.9715 - accuracy: 0.6099\n",
      "Epoch 39/50\n",
      "7/7 [==============================] - 0s 43ms/step - loss: 0.9706 - accuracy: 0.6099\n",
      "Epoch 40/50\n",
      "7/7 [==============================] - 0s 39ms/step - loss: 0.9696 - accuracy: 0.6099\n",
      "Epoch 41/50\n",
      "7/7 [==============================] - 0s 34ms/step - loss: 0.9689 - accuracy: 0.6188\n",
      "Epoch 42/50\n",
      "7/7 [==============================] - 0s 42ms/step - loss: 0.9681 - accuracy: 0.6233\n",
      "Epoch 43/50\n",
      "7/7 [==============================] - 0s 28ms/step - loss: 0.9672 - accuracy: 0.6233\n",
      "Epoch 44/50\n",
      "7/7 [==============================] - 0s 36ms/step - loss: 0.9666 - accuracy: 0.6278\n",
      "Epoch 45/50\n",
      "7/7 [==============================] - 0s 33ms/step - loss: 0.9655 - accuracy: 0.6278\n",
      "Epoch 46/50\n",
      "7/7 [==============================] - 0s 33ms/step - loss: 0.9649 - accuracy: 0.6233\n",
      "Epoch 47/50\n",
      "7/7 [==============================] - 0s 35ms/step - loss: 0.9641 - accuracy: 0.6233\n",
      "Epoch 48/50\n",
      "7/7 [==============================] - 0s 34ms/step - loss: 0.9632 - accuracy: 0.6233\n",
      "Epoch 49/50\n",
      "7/7 [==============================] - 0s 40ms/step - loss: 0.9626 - accuracy: 0.6278\n",
      "Epoch 50/50\n",
      "7/7 [==============================] - 0s 38ms/step - loss: 0.9619 - accuracy: 0.6323\n",
      "4/4 [==============================] - 1s 18ms/step - loss: 1.0082 - accuracy: 0.5818\n",
      "Test loss: 1.0082437992095947\n",
      "Test accuracy: 0.581818163394928\n"
     ]
    }
   ],
   "source": [
    "# Train the model\n",
    "model.fit(X_train, y_train, batch_size=32, epochs=50)\n",
    "\n",
    "# Evaluate the model on the test set\n",
    "test_loss, test_accuracy = model.evaluate(X_test, y_test)\n",
    "\n",
    "# Print the test loss and test accuracy\n",
    "print('Test loss:', test_loss)\n",
    "print('Test accuracy:', test_accuracy)"
   ]
  },
  {
   "cell_type": "markdown",
   "id": "d09abb78-5fe0-4cbf-be94-8ffb86008326",
   "metadata": {},
   "source": [
    "### Tuning Hyperparameters"
   ]
  },
  {
   "cell_type": "code",
   "execution_count": 25,
   "id": "c5bbe6cd-6b2b-411e-99de-94b0dc255292",
   "metadata": {},
   "outputs": [],
   "source": [
    "def objective(trial):\n",
    "    # Define hyperparameters to optimize\n",
    "    learning_rate = trial.suggest_float('learning_rate', 1e-5, 1e-2, log=True)\n",
    "    lstm_units = trial.suggest_int('lstm_units', 64, 256)\n",
    "    dropout_rate = trial.suggest_float('dropout_rate', 0.0, 0.5)\n",
    "    batch_size = trial.suggest_int('batch_size', 32, 128)\n",
    "\n",
    "    # Build the model with suggested hyperparameters\n",
    "    model = tf.keras.models.Sequential()\n",
    "    model.add(tf.keras.layers.LSTM(units=lstm_units, input_shape=(combined_data.shape[1], combined_data.shape[2])))\n",
    "    model.add(tf.keras.layers.Dropout(dropout_rate))\n",
    "    model.add(tf.keras.layers.Dense(1))\n",
    "\n",
    "    # Compile the model with the given learning rate\n",
    "    optimizer = tf.keras.optimizers.Adam(learning_rate=learning_rate)\n",
    "    model.compile(optimizer=optimizer, loss='binary_crossentropy', metrics=['accuracy'])\n",
    "\n",
    "    # Train the model using the suggested batch size\n",
    "    model.fit(X_train, y_train, batch_size=batch_size, epochs=10, verbose=0)\n",
    "\n",
    "    # Evaluate the model\n",
    "    score = model.evaluate(X_test, y_test)[0]\n",
    "    \n",
    "    return score  # Return the value to be minimized (e.g., loss)\n"
   ]
  },
  {
   "cell_type": "code",
   "execution_count": 26,
   "id": "d4e9e447-1721-4e53-9646-3700e4eb94bf",
   "metadata": {},
   "outputs": [
    {
     "name": "stderr",
     "output_type": "stream",
     "text": [
      "[I 2023-11-16 01:16:20,474] A new study created in memory with name: Test_Study\n"
     ]
    },
    {
     "name": "stdout",
     "output_type": "stream",
     "text": [
      "4/4 [==============================] - 2s 11ms/step - loss: 5.6283 - accuracy: 0.6273\n"
     ]
    },
    {
     "name": "stderr",
     "output_type": "stream",
     "text": [
      "[I 2023-11-16 01:16:32,698] Trial 0 finished with value: 5.62830924987793 and parameters: {'learning_rate': 1.4475850153527969e-05, 'lstm_units': 248, 'dropout_rate': 0.0773090416045254, 'batch_size': 66}. Best is trial 0 with value: 5.62830924987793.\n"
     ]
    },
    {
     "name": "stdout",
     "output_type": "stream",
     "text": [
      "4/4 [==============================] - 2s 24ms/step - loss: 1.3834 - accuracy: 0.6091\n"
     ]
    },
    {
     "name": "stderr",
     "output_type": "stream",
     "text": [
      "[I 2023-11-16 01:16:45,889] Trial 1 finished with value: 1.3834307193756104 and parameters: {'learning_rate': 0.0026507787244878403, 'lstm_units': 169, 'dropout_rate': 0.46633017851636793, 'batch_size': 54}. Best is trial 1 with value: 1.3834307193756104.\n"
     ]
    },
    {
     "name": "stdout",
     "output_type": "stream",
     "text": [
      "4/4 [==============================] - 2s 14ms/step - loss: 5.5072 - accuracy: 0.6273\n"
     ]
    },
    {
     "name": "stderr",
     "output_type": "stream",
     "text": [
      "[I 2023-11-16 01:16:57,047] Trial 2 finished with value: 5.507222652435303 and parameters: {'learning_rate': 0.000845049998835646, 'lstm_units': 206, 'dropout_rate': 0.39114338702341295, 'batch_size': 57}. Best is trial 1 with value: 1.3834307193756104.\n"
     ]
    },
    {
     "name": "stdout",
     "output_type": "stream",
     "text": [
      "4/4 [==============================] - 2s 53ms/step - loss: 0.8069 - accuracy: 0.6091\n"
     ]
    },
    {
     "name": "stderr",
     "output_type": "stream",
     "text": [
      "[I 2023-11-16 01:17:06,654] Trial 3 finished with value: 0.8068524599075317 and parameters: {'learning_rate': 0.0034371624103921765, 'lstm_units': 67, 'dropout_rate': 0.09177375894111356, 'batch_size': 55}. Best is trial 3 with value: 0.8068524599075317.\n"
     ]
    },
    {
     "name": "stdout",
     "output_type": "stream",
     "text": [
      "4/4 [==============================] - 2s 10ms/step - loss: 5.3605 - accuracy: 0.6364\n"
     ]
    },
    {
     "name": "stderr",
     "output_type": "stream",
     "text": [
      "[I 2023-11-16 01:17:15,556] Trial 4 finished with value: 5.360490322113037 and parameters: {'learning_rate': 0.0003374241022286559, 'lstm_units': 69, 'dropout_rate': 0.08738872007541898, 'batch_size': 65}. Best is trial 3 with value: 0.8068524599075317.\n"
     ]
    },
    {
     "name": "stdout",
     "output_type": "stream",
     "text": [
      "4/4 [==============================] - 1s 14ms/step - loss: 5.3834 - accuracy: 0.6455\n"
     ]
    },
    {
     "name": "stderr",
     "output_type": "stream",
     "text": [
      "[I 2023-11-16 01:17:25,557] Trial 5 finished with value: 5.383359432220459 and parameters: {'learning_rate': 1.2545908781063253e-05, 'lstm_units': 234, 'dropout_rate': 0.48635744867725267, 'batch_size': 63}. Best is trial 3 with value: 0.8068524599075317.\n"
     ]
    },
    {
     "name": "stdout",
     "output_type": "stream",
     "text": [
      "4/4 [==============================] - 1s 7ms/step - loss: 2.1929 - accuracy: 0.5455\n"
     ]
    },
    {
     "name": "stderr",
     "output_type": "stream",
     "text": [
      "[I 2023-11-16 01:17:34,413] Trial 6 finished with value: 2.192901134490967 and parameters: {'learning_rate': 1.70766074071885e-05, 'lstm_units': 82, 'dropout_rate': 0.4280681716337243, 'batch_size': 90}. Best is trial 3 with value: 0.8068524599075317.\n"
     ]
    },
    {
     "name": "stdout",
     "output_type": "stream",
     "text": [
      "4/4 [==============================] - 2s 29ms/step - loss: 0.6842 - accuracy: 0.6182\n"
     ]
    },
    {
     "name": "stderr",
     "output_type": "stream",
     "text": [
      "[I 2023-11-16 01:17:44,172] Trial 7 finished with value: 0.6842015981674194 and parameters: {'learning_rate': 0.003278898629822333, 'lstm_units': 238, 'dropout_rate': 0.154814584858593, 'batch_size': 77}. Best is trial 7 with value: 0.6842015981674194.\n"
     ]
    },
    {
     "name": "stdout",
     "output_type": "stream",
     "text": [
      "4/4 [==============================] - 1s 15ms/step - loss: 0.8838 - accuracy: 0.6091\n"
     ]
    },
    {
     "name": "stderr",
     "output_type": "stream",
     "text": [
      "[I 2023-11-16 01:17:57,239] Trial 8 finished with value: 0.8837992548942566 and parameters: {'learning_rate': 0.0035145938941457382, 'lstm_units': 245, 'dropout_rate': 0.31634550760498764, 'batch_size': 106}. Best is trial 7 with value: 0.6842015981674194.\n"
     ]
    },
    {
     "name": "stdout",
     "output_type": "stream",
     "text": [
      "4/4 [==============================] - 2s 49ms/step - loss: 5.6265 - accuracy: 0.6273\n"
     ]
    },
    {
     "name": "stderr",
     "output_type": "stream",
     "text": [
      "[I 2023-11-16 01:18:07,251] Trial 9 finished with value: 5.626465797424316 and parameters: {'learning_rate': 0.004379174811786395, 'lstm_units': 127, 'dropout_rate': 0.4437439804858493, 'batch_size': 66}. Best is trial 7 with value: 0.6842015981674194.\n"
     ]
    },
    {
     "name": "stdout",
     "output_type": "stream",
     "text": [
      "Best hyperparameters: {'learning_rate': 0.003278898629822333, 'lstm_units': 238, 'dropout_rate': 0.154814584858593, 'batch_size': 77}\n"
     ]
    }
   ],
   "source": [
    "study_name = \"Test_Study\"  # Set your desired study name here\n",
    "study = optuna.create_study(direction='minimize', study_name=study_name)\n",
    "\n",
    "study.optimize(objective, n_trials=10)\n",
    "\n",
    "best_params = study.best_params\n",
    "print(\"Best hyperparameters:\", best_params)"
   ]
  },
  {
   "cell_type": "code",
   "execution_count": null,
   "id": "df36ce23-d68c-4929-b34b-f8f0e52ac1e1",
   "metadata": {},
   "outputs": [
    {
     "name": "stdout",
     "output_type": "stream",
     "text": [
      "Epoch 1/10\n",
      "3/3 [==============================] - 7s 141ms/step - loss: 6.0006 - accuracy: 0.5874\n",
      "Epoch 2/10\n",
      "3/3 [==============================] - 1s 237ms/step - loss: 6.1587 - accuracy: 0.6009\n",
      "Epoch 3/10\n",
      "3/3 [==============================] - 1s 178ms/step - loss: 6.1116 - accuracy: 0.5964\n",
      "Epoch 4/10\n",
      "3/3 [==============================] - 1s 325ms/step - loss: 6.0887 - accuracy: 0.6054\n",
      "Epoch 5/10\n",
      "3/3 [==============================] - 1s 301ms/step - loss: 6.0960 - accuracy: 0.6009\n",
      "Epoch 6/10\n",
      "3/3 [==============================] - 1s 279ms/step - loss: 6.0883 - accuracy: 0.6054\n",
      "Epoch 7/10\n",
      "3/3 [==============================] - 1s 272ms/step - loss: 6.0362 - accuracy: 0.6054\n",
      "Epoch 8/10\n",
      "3/3 [==============================] - 1s 196ms/step - loss: 6.0265 - accuracy: 0.6054\n",
      "Epoch 9/10\n",
      "3/3 [==============================] - 1s 191ms/step - loss: 5.8411 - accuracy: 0.6054\n",
      "Epoch 10/10\n",
      "3/3 [==============================] - 1s 224ms/step - loss: 5.8474 - accuracy: 0.6099\n"
     ]
    },
    {
     "data": {
      "text/plain": [
       "<keras.callbacks.History at 0x2068051bf40>"
      ]
     },
     "execution_count": 30,
     "metadata": {},
     "output_type": "execute_result"
    }
   ],
   "source": [
    "best_learning_rate = study.best_params['learning_rate']\n",
    "best_lstm_units = study.best_params['lstm_units']\n",
    "best_dropout_rate = study.best_params['dropout_rate']\n",
    "batch = study.best_params['batch_size']\n",
    "\n",
    "\n",
    "model = tf.keras.models.Sequential()\n",
    "model.add(tf.keras.layers.LSTM(units=best_lstm_units, input_shape=(combined_data.shape[1], combined_data.shape[2])))\n",
    "model.add(tf.keras.layers.Dropout(best_dropout_rate))\n",
    "model.add(tf.keras.layers.Dense(1))\n",
    "\n",
    "optimizer = tf.keras.optimizers.Adam(learning_rate=best_learning_rate)\n",
    "model.compile(optimizer=optimizer, loss='binary_crossentropy', metrics=['accuracy'])\n",
    "\n",
    "# Now train your model using these hyperparameters\n",
    "model.fit(X_train, y_train, batch_size=batch, epochs=10)"
   ]
  },
  {
   "cell_type": "code",
   "execution_count": null,
   "id": "cb648875-c18e-44cf-88ea-5ecd53e08314",
   "metadata": {},
   "outputs": [
    {
     "name": "stdout",
     "output_type": "stream",
     "text": [
      "Events\n"
     ]
    },
    {
     "name": "stderr",
     "output_type": "stream",
     "text": [
      "100%|██████████| 157/157 [03:16<00:00,  1.25s/it]\n"
     ]
    },
    {
     "name": "stdout",
     "output_type": "stream",
     "text": [
      "Data\n"
     ]
    }
   ],
   "source": [
    "events = get_event_list('../Data/2009/2009-WDD-events.csv')\n",
    "print(\"Events\")\n",
    "earthquake_data = np.array(get_clean_data('../Data/2009', events))\n",
    "print(\"Data\")\n",
    "earthquake_labels = np.asarray([1] * len(earthquake_data))\n",
    "\n",
    "utc_times = make_utc_list(events)\n",
    "neg_examples = create_neg_examples('../Data/2009', utc_times)\n",
    "print(\"Negative\")\n",
    "negative_labels = np.asarray([0] * len(neg_examples))\n",
    "\n",
    "combined_data = np.concatenate((earthquake_data, neg_examples), axis=0)\n",
    "combined_labels = np.concatenate((earthquake_labels, negative_labels), axis=0)"
   ]
  },
  {
   "cell_type": "code",
   "execution_count": null,
   "id": "65a0c7a1-66b1-4ecf-a781-96aef12802ee",
   "metadata": {},
   "outputs": [],
   "source": [
    "# Save the combined_data and combined_labels\n",
    "dump(combined_data, 'combined_data2009.joblib')\n",
    "dump(combined_labels, 'combined_labels2009.joblib')"
   ]
  },
  {
   "cell_type": "code",
   "execution_count": null,
   "id": "d99f747b-5ce6-438b-8d94-356270e67147",
   "metadata": {},
   "outputs": [],
   "source": [
    "X_train1, X_test1, y_train1, y_test1 = train_test_split(combined_data, combined_labels, test_size=0.33)"
   ]
  },
  {
   "cell_type": "markdown",
   "id": "b08edc80",
   "metadata": {},
   "source": [
    "Testing"
   ]
  },
  {
   "cell_type": "code",
   "execution_count": null,
   "id": "e5c308c1-6f0e-425a-a523-2e030f3e61ae",
   "metadata": {},
   "outputs": [],
   "source": []
  }
 ],
 "metadata": {
  "kernelspec": {
   "display_name": "Python 3 (ipykernel)",
   "language": "python",
   "name": "python3"
  },
  "language_info": {
   "codemirror_mode": {
    "name": "ipython",
    "version": 3
   },
   "file_extension": ".py",
   "mimetype": "text/x-python",
   "name": "python",
   "nbconvert_exporter": "python",
   "pygments_lexer": "ipython3",
   "version": "3.8.16"
  }
 },
 "nbformat": 4,
 "nbformat_minor": 5
}
