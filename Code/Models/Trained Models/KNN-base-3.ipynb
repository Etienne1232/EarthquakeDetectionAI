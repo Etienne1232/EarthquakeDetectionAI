{
 "cells": [
  {
   "cell_type": "code",
   "execution_count": 5,
   "metadata": {},
   "outputs": [
    {
     "name": "stderr",
     "output_type": "stream",
     "text": [
      "[I 2024-04-25 03:50:18,851] A new study created in memory with name: no-name-a5402d4b-f5ba-4595-9f3d-70ece0db31ec\n",
      "[I 2024-04-25 03:50:24,894] Trial 11 finished with value: 0.6383928571428571 and parameters: {'n_neighbors': 6, 'weights': 'uniform', 'metric': 'minkowski'}. Best is trial 11 with value: 0.6383928571428571.\n",
      "[I 2024-04-25 03:50:25,274] Trial 19 finished with value: 0.6214285714285713 and parameters: {'n_neighbors': 9, 'weights': 'uniform', 'metric': 'euclidean'}. Best is trial 11 with value: 0.6383928571428571.\n",
      "[I 2024-04-25 03:50:25,289] Trial 10 finished with value: 0.6267857142857144 and parameters: {'n_neighbors': 2, 'weights': 'uniform', 'metric': 'minkowski'}. Best is trial 11 with value: 0.6383928571428571.\n",
      "[I 2024-04-25 03:50:25,309] Trial 12 finished with value: 0.63125 and parameters: {'n_neighbors': 11, 'weights': 'uniform', 'metric': 'minkowski'}. Best is trial 11 with value: 0.6383928571428571.\n",
      "[I 2024-04-25 03:50:25,329] Trial 20 finished with value: 0.6375 and parameters: {'n_neighbors': 7, 'weights': 'distance', 'metric': 'euclidean'}. Best is trial 11 with value: 0.6383928571428571.\n",
      "[I 2024-04-25 03:50:25,351] Trial 13 finished with value: 0.6330357142857144 and parameters: {'n_neighbors': 6, 'weights': 'distance', 'metric': 'euclidean'}. Best is trial 11 with value: 0.6383928571428571.\n",
      "[I 2024-04-25 03:50:25,382] Trial 21 finished with value: 0.6383928571428571 and parameters: {'n_neighbors': 6, 'weights': 'uniform', 'metric': 'euclidean'}. Best is trial 11 with value: 0.6383928571428571.\n",
      "[I 2024-04-25 03:50:25,774] Trial 9 finished with value: 0.56875 and parameters: {'n_neighbors': 39, 'weights': 'uniform', 'metric': 'minkowski'}. Best is trial 11 with value: 0.6383928571428571.\n",
      "[I 2024-04-25 03:50:26,183] Trial 18 finished with value: 0.6017857142857143 and parameters: {'n_neighbors': 19, 'weights': 'uniform', 'metric': 'euclidean'}. Best is trial 11 with value: 0.6383928571428571.\n",
      "[I 2024-04-25 03:50:26,207] Trial 2 finished with value: 0.6383928571428571 and parameters: {'n_neighbors': 6, 'weights': 'uniform', 'metric': 'minkowski'}. Best is trial 11 with value: 0.6383928571428571.\n",
      "[I 2024-04-25 03:50:26,270] Trial 7 finished with value: 0.5821428571428571 and parameters: {'n_neighbors': 41, 'weights': 'distance', 'metric': 'minkowski'}. Best is trial 11 with value: 0.6383928571428571.\n",
      "[I 2024-04-25 03:50:26,336] Trial 16 finished with value: 0.6160714285714286 and parameters: {'n_neighbors': 5, 'weights': 'distance', 'metric': 'minkowski'}. Best is trial 11 with value: 0.6383928571428571.\n",
      "[I 2024-04-25 03:50:26,395] Trial 6 finished with value: 0.5857142857142856 and parameters: {'n_neighbors': 40, 'weights': 'distance', 'metric': 'minkowski'}. Best is trial 11 with value: 0.6383928571428571.\n",
      "[I 2024-04-25 03:50:26,443] Trial 1 finished with value: 0.60625 and parameters: {'n_neighbors': 27, 'weights': 'distance', 'metric': 'minkowski'}. Best is trial 11 with value: 0.6383928571428571.\n",
      "[I 2024-04-25 03:50:26,544] Trial 4 finished with value: 0.625 and parameters: {'n_neighbors': 16, 'weights': 'uniform', 'metric': 'euclidean'}. Best is trial 11 with value: 0.6383928571428571.\n",
      "[I 2024-04-25 03:50:26,632] Trial 17 finished with value: 0.5589285714285713 and parameters: {'n_neighbors': 45, 'weights': 'uniform', 'metric': 'euclidean'}. Best is trial 11 with value: 0.6383928571428571.\n",
      "[I 2024-04-25 03:50:26,693] Trial 0 finished with value: 0.6330357142857144 and parameters: {'n_neighbors': 6, 'weights': 'distance', 'metric': 'minkowski'}. Best is trial 11 with value: 0.6383928571428571.\n",
      "[I 2024-04-25 03:50:26,760] Trial 5 finished with value: 0.6241071428571429 and parameters: {'n_neighbors': 10, 'weights': 'uniform', 'metric': 'euclidean'}. Best is trial 11 with value: 0.6383928571428571.\n",
      "[I 2024-04-25 03:50:27,723] Trial 24 finished with value: 0.5874999999999999 and parameters: {'n_neighbors': 36, 'weights': 'distance', 'metric': 'euclidean'}. Best is trial 11 with value: 0.6383928571428571.\n",
      "[I 2024-04-25 03:50:31,771] Trial 25 finished with value: 0.63125 and parameters: {'n_neighbors': 8, 'weights': 'uniform', 'metric': 'euclidean'}. Best is trial 11 with value: 0.6383928571428571.\n",
      "[I 2024-04-25 03:50:34,512] Trial 28 finished with value: 0.6285714285714287 and parameters: {'n_neighbors': 15, 'weights': 'distance', 'metric': 'euclidean'}. Best is trial 11 with value: 0.6383928571428571.\n",
      "[I 2024-04-25 03:50:34,726] Trial 26 finished with value: 0.6303571428571428 and parameters: {'n_neighbors': 16, 'weights': 'distance', 'metric': 'euclidean'}. Best is trial 11 with value: 0.6383928571428571.\n",
      "[I 2024-04-25 03:50:35,842] Trial 30 finished with value: 0.5714285714285714 and parameters: {'n_neighbors': 38, 'weights': 'uniform', 'metric': 'minkowski'}. Best is trial 11 with value: 0.6383928571428571.\n",
      "[I 2024-04-25 03:50:37,071] Trial 32 finished with value: 0.625 and parameters: {'n_neighbors': 10, 'weights': 'distance', 'metric': 'euclidean'}. Best is trial 11 with value: 0.6383928571428571.\n"
     ]
    }
   ],
   "source": [
    "import numpy as np\n",
    "from sklearn.neighbors import KNeighborsClassifier\n",
    "from sklearn.model_selection import train_test_split, StratifiedKFold, cross_val_score  \n",
    "import optuna\n",
    "from sklearn.metrics import accuracy_score, confusion_matrix, classification_report\n",
    "from joblib import load, dump\n",
    "\n",
    "\n",
    "combined_data = load('../../DataDumps/3classfft.joblib')\n",
    "combined_labels = load('../../DataDumps/3class_labels.joblib')\n",
    "def reshape_data(data):\n",
    "    num_samples = data.shape[0]\n",
    "    num_timesteps = data.shape[1]\n",
    "    num_channels = data.shape[2]  # Assuming the 3rd dimension is the number of channels\n",
    "    return data.reshape(num_samples, num_timesteps * num_channels) \n",
    "\n",
    "\n",
    "combined_data = reshape_data(combined_data) \n",
    "\n",
    "\n",
    "# Split data into training/validation and test sets (using same split as in RF)\n",
    "X_train_val, X_test, y_train_val, y_test = train_test_split(combined_data, combined_labels, test_size=0.2, random_state=42)\n",
    "\n",
    "def objective(trial):\n",
    "    n_neighbors = trial.suggest_int('n_neighbors', 1, 50)\n",
    "    weights = trial.suggest_categorical('weights', ['uniform', 'distance'])\n",
    "    metric = trial.suggest_categorical('metric', ['euclidean', 'manhattan', 'minkowski'])\n",
    "    skf = StratifiedKFold(n_splits=5, shuffle=True, random_state=0)  \n",
    "\n",
    "    knn = KNeighborsClassifier(n_neighbors=n_neighbors, weights=weights, metric=metric, n_jobs=-1)\n",
    "\n",
    "    cv_scores = cross_val_score(knn, X_train_val, y_train_val, cv=skf, scoring='accuracy')\n",
    "    return cv_scores.mean()\n",
    "\n",
    "# Hyperparameter tuning with Optuna\n",
    "study = optuna.create_study(direction='maximize')\n",
    "study.optimize(objective, n_trials=200)  \n",
    "\n",
    "best_params = study.best_params\n",
    "print(\"Best hyperparameters:\", best_params)\n",
    "\n",
    "# Train final model with best hyperparameters\n",
    "best_knn = KNeighborsClassifier(**best_params)\n",
    "best_knn.fit(X_train_val, y_train_val)\n",
    "\n",
    "# Save model if needed\n",
    "dump(best_knn, 'KNN-Base-2.joblib') \n",
    "\n",
    "# Evaluation on test set\n",
    "predictions_test = best_knn.predict(X_test)\n",
    "accuracy_test = accuracy_score(y_test, predictions_test)\n",
    "print(\"Accuracy on Test Set:\", accuracy_test)\n",
    "print(classification_report(y_test, predictions_test))\n",
    "print(confusion_matrix(y_test, predictions_test))"
   ]
  },
  {
   "cell_type": "code",
   "execution_count": 1,
   "metadata": {},
   "outputs": [
    {
     "ename": "NameError",
     "evalue": "name 'best_knn' is not defined",
     "output_type": "error",
     "traceback": [
      "\u001b[1;31m---------------------------------------------------------------------------\u001b[0m",
      "\u001b[1;31mNameError\u001b[0m                                 Traceback (most recent call last)",
      "Cell \u001b[1;32mIn[1], line 2\u001b[0m\n\u001b[0;32m      1\u001b[0m \u001b[38;5;66;03m# Evaluation on test set\u001b[39;00m\n\u001b[1;32m----> 2\u001b[0m predictions_test \u001b[38;5;241m=\u001b[39m \u001b[43mbest_knn\u001b[49m\u001b[38;5;241m.\u001b[39mpredict(X_test)\n\u001b[0;32m      3\u001b[0m accuracy_test \u001b[38;5;241m=\u001b[39m accuracy_score(y_test, predictions_test)\n\u001b[0;32m      4\u001b[0m \u001b[38;5;28mprint\u001b[39m(\u001b[38;5;124m\"\u001b[39m\u001b[38;5;124mAccuracy on Test Set:\u001b[39m\u001b[38;5;124m\"\u001b[39m, accuracy_test)\n",
      "\u001b[1;31mNameError\u001b[0m: name 'best_knn' is not defined"
     ]
    }
   ],
   "source": [
    "# Evaluation on test set\n",
    "predictions_test = best_knn.predict(X_test)\n",
    "accuracy_test = accuracy_score(y_test, predictions_test)\n",
    "print(\"Accuracy on Test Set:\", accuracy_test)\n",
    "print(classification_report(y_test, predictions_test))\n",
    "print(confusion_matrix(y_test, predictions_test))"
   ]
  },
  {
   "cell_type": "code",
   "execution_count": null,
   "metadata": {},
   "outputs": [],
   "source": []
  }
 ],
 "metadata": {
  "kernelspec": {
   "display_name": "tf",
   "language": "python",
   "name": "python3"
  },
  "language_info": {
   "codemirror_mode": {
    "name": "ipython",
    "version": 3
   },
   "file_extension": ".py",
   "mimetype": "text/x-python",
   "name": "python",
   "nbconvert_exporter": "python",
   "pygments_lexer": "ipython3",
   "version": "3.9.18"
  }
 },
 "nbformat": 4,
 "nbformat_minor": 2
}
