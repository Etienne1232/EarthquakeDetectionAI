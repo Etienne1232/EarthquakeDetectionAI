{
 "cells": [
  {
   "cell_type": "code",
   "execution_count": 1,
   "metadata": {},
   "outputs": [
    {
     "name": "stdout",
     "output_type": "stream",
     "text": [
      "Accuracy on Test Set: 0.8819277108433735\n",
      "              precision    recall  f1-score   support\n",
      "\n",
      "           0       0.84      0.94      0.89       203\n",
      "           1       0.94      0.83      0.88       212\n",
      "\n",
      "    accuracy                           0.88       415\n",
      "   macro avg       0.89      0.88      0.88       415\n",
      "weighted avg       0.89      0.88      0.88       415\n",
      "\n",
      "[[191  12]\n",
      " [ 37 175]]\n"
     ]
    }
   ],
   "source": [
    "import numpy as np\n",
    "from sklearn.ensemble import RandomForestClassifier\n",
    "from sklearn.model_selection import train_test_split, cross_val_score  \n",
    "import optuna\n",
    "from sklearn.metrics import accuracy_score, confusion_matrix, classification_report\n",
    "from joblib import load\n",
    "\n",
    "combined_data = load('../../DataDumps/all_data_fft - balanced YesandNo.joblib')\n",
    "combined_labels = load('../../DataDumps/2class_labels.joblib')\n",
    "\n",
    "def reshape_data(data):\n",
    "    num_samples = data.shape[0]\n",
    "    num_timesteps = data.shape[1]\n",
    "    num_channels = data.shape[2]  # Assuming the 3rd dimension is the number of channels\n",
    "    return data.reshape(num_samples, num_timesteps * num_channels) \n",
    "\n",
    "\n",
    "combined_data = reshape_data(combined_data) \n",
    "\n",
    "X_train_val, X_test, y_train_val, y_test = train_test_split(combined_data, combined_labels, test_size=0.2, random_state=42)\n",
    "\n",
    "rf = RandomForestClassifier()\n",
    "\n",
    "rf.fit(X_train_val, y_train_val)\n",
    "# Evaluation on test set\n",
    "predictions_test = rf.predict(X_test)\n",
    "accuracy_test = accuracy_score(y_test, predictions_test)\n",
    "print(\"Accuracy on Test Set:\", accuracy_test)\n",
    "print(classification_report(y_test, predictions_test))\n",
    "print(confusion_matrix(y_test, predictions_test))\n"
   ]
  },
  {
   "cell_type": "code",
   "execution_count": null,
   "metadata": {},
   "outputs": [],
   "source": []
  }
 ],
 "metadata": {
  "kernelspec": {
   "display_name": "tf",
   "language": "python",
   "name": "python3"
  },
  "language_info": {
   "codemirror_mode": {
    "name": "ipython",
    "version": 3
   },
   "file_extension": ".py",
   "mimetype": "text/x-python",
   "name": "python",
   "nbconvert_exporter": "python",
   "pygments_lexer": "ipython3",
   "version": "3.9.18"
  }
 },
 "nbformat": 4,
 "nbformat_minor": 2
}
