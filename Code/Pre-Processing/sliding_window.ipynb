{
 "cells": [
  {
   "cell_type": "markdown",
   "metadata": {},
   "source": [
    "# Sliding Window"
   ]
  },
  {
   "cell_type": "code",
   "execution_count": 1,
   "metadata": {},
   "outputs": [],
   "source": [
    "import obspy"
   ]
  },
  {
   "cell_type": "code",
   "execution_count": 42,
   "metadata": {},
   "outputs": [],
   "source": [
    "def normalize_time(time_str):\n",
    "    parts = time_str.split(':')\n",
    "    if len(parts) != 3:\n",
    "        raise ValueError(f\"Invalid time format: {time_str}\")\n",
    "    \n",
    "    hours = int(parts[0])\n",
    "    minutes = int(parts[1])\n",
    "    seconds = float(parts[2])\n",
    "\n",
    "    # Normalize seconds\n",
    "    if seconds >= 60:\n",
    "        extra_minutes = int(seconds // 60)\n",
    "        seconds = seconds % 60\n",
    "        minutes += extra_minutes\n",
    "    \n",
    "    # Normalize minutes\n",
    "    if minutes >= 60:\n",
    "        extra_hours = minutes // 60\n",
    "        minutes = minutes % 60\n",
    "        hours += extra_hours\n",
    "    \n",
    "    # Ensure hours are within 24-hour format\n",
    "    hours = hours % 24\n",
    "\n",
    "    return f\"{str(hours).zfill(2)}:{str(minutes).zfill(2)}:{seconds:.3f}\"\n"
   ]
  },
  {
   "cell_type": "code",
   "execution_count": 56,
   "metadata": {},
   "outputs": [
    {
     "name": "stdout",
     "output_type": "stream",
     "text": [
      "Number of labeled windows: 11516\n",
      "Label: 0, Start time: 2011-01-01T00:00:29.998335Z, End time: 2011-01-01T00:02:04.998335Z\n",
      "Label: 0, Start time: 2011-01-01T00:00:59.998335Z, End time: 2011-01-01T00:02:34.998335Z\n",
      "Label: 0, Start time: 2011-01-01T00:01:29.998335Z, End time: 2011-01-01T00:03:04.998335Z\n",
      "Label: 0, Start time: 2011-01-01T00:01:59.998335Z, End time: 2011-01-01T00:03:34.998335Z\n",
      "Label: 0, Start time: 2011-01-01T00:02:29.998335Z, End time: 2011-01-01T00:04:04.998335Z\n"
     ]
    }
   ],
   "source": [
    "import obspy\n",
    "from obspy import UTCDateTime\n",
    "import pandas as pd\n",
    "\n",
    "# Predefined constants\n",
    "WINDOW_LENGTH = 95  # Example: length of each window in seconds\n",
    "WINDOW_MOVE = 30  # Example: move window every 30 seconds\n",
    "SAMPLES = 7601  # Number of samples per window\n",
    "\n",
    "def get_windowed_data_with_labels(path, event_list, start_year, end_year):\n",
    "    labeled_data = []\n",
    "    extra_data = []\n",
    "\n",
    "    def get_continuous_stream(start_year, end_year):\n",
    "        def read_day_data(year, day):\n",
    "            HHE = path + f\"{year}/MN/WDD/HHE.D/MN.WDD..HHE.D.{year}.{str(day).zfill(3)}\"\n",
    "            HHN = path + f\"{year}/MN/WDD/HHN.D/MN.WDD..HHN.D.{year}.{str(day).zfill(3)}\"\n",
    "            HHZ = path + f\"{year}/MN/WDD/HHZ.D/MN.WDD..HHZ.D.{year}.{str(day).zfill(3)}\"\n",
    "            try:\n",
    "                st = obspy.read(HHE)\n",
    "                st += obspy.read(HHN)\n",
    "                st += obspy.read(HHZ)\n",
    "                st.merge(fill_value='interpolate')  # Ensure the data is continuous\n",
    "                return st\n",
    "            except Exception as e:\n",
    "                print(f\"Missing or corrupted file for {year}, {day}: {e}\")\n",
    "                return None\n",
    "\n",
    "        st = obspy.Stream()\n",
    "        # Iterate through each day in the specified year range\n",
    "        for year in range(start_year, end_year + 1):\n",
    "            for day in range(1, 5):\n",
    "                st_day = read_day_data(year, day)\n",
    "                if st_day is not None:\n",
    "                    st += st_day\n",
    "\n",
    "        st.merge(fill_value='interpolate')\n",
    "        return st\n",
    "\n",
    "    st = get_continuous_stream(start_year, end_year)\n",
    "\n",
    "    # Ensure we have three channels of data\n",
    "    if len(st) == 3:\n",
    "        start_time = UTCDateTime(f\"{start_year}-01-01T00:00:00.000000Z\")\n",
    "        end_time = st[0].stats.endtime\n",
    "\n",
    "        while start_time + WINDOW_LENGTH <= end_time:\n",
    "            windowed_data = st.slice(starttime=start_time, endtime=start_time + WINDOW_LENGTH)\n",
    "            condition = len(windowed_data[0].data) == SAMPLES and len(windowed_data[1].data) == SAMPLES and len(windowed_data[2].data) == SAMPLES\n",
    "\n",
    "            if condition:\n",
    "                label = 0\n",
    "                for _, row in event_list.iterrows():\n",
    "                    \n",
    "                    quake_time = obspy.UTCDateTime(row['date'] + normalize_time(row['pTime']))\n",
    "                    s_time = obspy.UTCDateTime(row['date'] + normalize_time(row['sTime']))\n",
    "\n",
    "                    if start_time <= quake_time <= start_time + WINDOW_LENGTH or start_time <= s_time <= start_time + WINDOW_LENGTH:\n",
    "                        label = 1\n",
    "                        break\n",
    "\n",
    "                labeled_data.append((windowed_data, label))\n",
    "                extra_data.append([start_time.year, start_time.julday, start_time, start_time + WINDOW_LENGTH, label])\n",
    "            start_time += WINDOW_MOVE\n",
    "    return labeled_data, extra_data\n",
    "\n",
    "# Define the start and end years for the data\n",
    "START_YEAR = 2011\n",
    "END_YEAR = 2011\n",
    "\n",
    "# Example event list structure\n",
    "# Adjust the path to your event list CSV file\n",
    "event_list = pd.read_csv('AllEventsDF.csv')\n",
    "\n",
    "# Example path\n",
    "path = \"../../Data/\"\n",
    "\n",
    "labeled_data, extra_data = get_windowed_data_with_labels(path, event_list, START_YEAR, END_YEAR)"
   ]
  },
  {
   "cell_type": "code",
   "execution_count": 58,
   "metadata": {},
   "outputs": [
    {
     "name": "stdout",
     "output_type": "stream",
     "text": [
      "Number of labeled windows: 11516\n",
      "Label: 1, Start time: 2011-01-02T14:39:59.998335Z, End time: 2011-01-02T14:41:34.998335Z\n",
      "Label: 1, Start time: 2011-01-02T14:40:29.998335Z, End time: 2011-01-02T14:42:04.998335Z\n",
      "Label: 1, Start time: 2011-01-02T14:40:59.998335Z, End time: 2011-01-02T14:42:34.998335Z\n",
      "Label: 1, Start time: 2011-01-02T14:41:29.998335Z, End time: 2011-01-02T14:43:04.998335Z\n",
      "Label: 1, Start time: 2011-01-02T14:41:59.998335Z, End time: 2011-01-02T14:43:34.998335Z\n",
      "Label: 1, Start time: 2011-01-02T14:42:29.998335Z, End time: 2011-01-02T14:44:04.998335Z\n"
     ]
    }
   ],
   "source": [
    "# Print results for verification\n",
    "print(f\"Number of labeled windows: {len(labeled_data)}\")\n",
    "for data, label in labeled_data:  # Print the first 5 windows for example\n",
    "    if label == 1:\n",
    "        print(f\"Label: {label}, Start time: {data[0].stats.starttime}, End time: {data[0].stats.endtime}\")"
   ]
  },
  {
   "cell_type": "code",
   "execution_count": 62,
   "metadata": {},
   "outputs": [],
   "source": [
    "import numpy as np\n",
    "from joblib import load, dump\n",
    "def apply_fft(data):\n",
    "    fft_data = np.fft.fft(data)\n",
    "    return np.abs(fft_data)"
   ]
  },
  {
   "cell_type": "code",
   "execution_count": null,
   "metadata": {},
   "outputs": [],
   "source": [
    "fft_data = [apply_fft(sample) for sample in raw_data]\n",
    "dump(np.array(fft_data), \"../Dump3/X_test_fft.joblib\")"
   ]
  },
  {
   "cell_type": "code",
   "execution_count": 64,
   "metadata": {},
   "outputs": [],
   "source": [
    "raw_X_Train = load(\"../../BEST SET/raw_X_Train.joblib\")"
   ]
  },
  {
   "cell_type": "code",
   "execution_count": 66,
   "metadata": {},
   "outputs": [
    {
     "data": {
      "text/plain": [
       "(1652, 3, 7601)"
      ]
     },
     "execution_count": 66,
     "metadata": {},
     "output_type": "execute_result"
    }
   ],
   "source": [
    "raw_X_Train.shape"
   ]
  },
  {
   "cell_type": "code",
   "execution_count": 81,
   "metadata": {},
   "outputs": [],
   "source": [
    "labels = []\n",
    "data = []\n",
    "for stream, label in labeled_data:\n",
    "    data.append(apply_fft(stream))\n",
    "    labels.append(label)\n",
    "labels = np.array(labels)\n",
    "data = np.array(data)"
   ]
  },
  {
   "cell_type": "code",
   "execution_count": 87,
   "metadata": {},
   "outputs": [
    {
     "data": {
      "text/plain": [
       "['./Windowlabels.joblib']"
      ]
     },
     "execution_count": 87,
     "metadata": {},
     "output_type": "execute_result"
    }
   ],
   "source": [
    "dump(labels, './Windowlabels.joblib')"
   ]
  },
  {
   "cell_type": "code",
   "execution_count": 88,
   "metadata": {},
   "outputs": [
    {
     "data": {
      "text/plain": [
       "['./Windowdata.joblib']"
      ]
     },
     "execution_count": 88,
     "metadata": {},
     "output_type": "execute_result"
    }
   ],
   "source": [
    "dump(data, './Windowdata.joblib')"
   ]
  },
  {
   "cell_type": "code",
   "execution_count": null,
   "metadata": {},
   "outputs": [],
   "source": []
  }
 ],
 "metadata": {
  "kernelspec": {
   "display_name": "tf",
   "language": "python",
   "name": "python3"
  },
  "language_info": {
   "codemirror_mode": {
    "name": "ipython",
    "version": 3
   },
   "file_extension": ".py",
   "mimetype": "text/x-python",
   "name": "python",
   "nbconvert_exporter": "python",
   "pygments_lexer": "ipython3",
   "version": "3.9.18"
  }
 },
 "nbformat": 4,
 "nbformat_minor": 2
}
